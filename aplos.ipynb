{
 "cells": [
  {
   "cell_type": "code",
   "execution_count": 1,
   "id": "5c143fab-abe4-4864-96b6-b75bc469a72f",
   "metadata": {},
   "outputs": [],
   "source": [
    "# Carregando as principais bibliotecas\n",
    "import numpy as np\n",
    "import pandas as pd\n",
    "import matplotlib.pyplot as plt\n",
    "import seaborn as sns\n",
    "import datetime as dt\n",
    "from datetime import datetime, timedelta\n",
    "import math"
   ]
  },
  {
   "cell_type": "code",
   "execution_count": 2,
   "id": "d6f54a05-4c7f-4b8d-9b63-ac580b2f3dc6",
   "metadata": {},
   "outputs": [],
   "source": [
    "# Carregando os arquivos .csv e salvando em Pandas\n",
    "orders = pd.read_csv(\"Orders.csv\")\n",
    "inventory = pd.read_csv(\"Inventory.csv\")\n",
    "ship = pd.read_csv(\"Shipments.csv\")\n",
    "# Agora, vamos verificar inconsistências tabela por tabela"
   ]
  },
  {
   "cell_type": "code",
   "execution_count": 3,
   "id": "92f4b55b-aba7-4954-a962-ae77144c04fe",
   "metadata": {},
   "outputs": [
    {
     "data": {
      "text/plain": [
       "<bound method NDFrame.head of    order_id customer_id product_id  order_date order_status\n",
       "0     O0001        C007       P008  2025-02-26    Delivered\n",
       "1     O0002        C020       P014  2025-02-01    Delivered\n",
       "2     O0003        C029       P008  2025-02-23    Delivered\n",
       "3     O0004        C015       P016  2025-04-21    Delivered\n",
       "4     O0005        C011       P013  2025-04-21    Delivered\n",
       "..      ...         ...        ...         ...          ...\n",
       "95    O0096        C010       P007  2025-04-02    Delivered\n",
       "96    O0097        C004       P002  2025-03-06    Delivered\n",
       "97    O0098        C014       P003  2025-04-03      Pending\n",
       "98    O0099        C016       P017  2025-04-15     Canceled\n",
       "99    O0100        C015       P005  2025-04-16    Delivered\n",
       "\n",
       "[100 rows x 5 columns]>"
      ]
     },
     "execution_count": 3,
     "metadata": {},
     "output_type": "execute_result"
    }
   ],
   "source": [
    "# Vamos começar por \"orders.csv\"\n",
    "# Primeiramente, vamos explorar os dados para entender a tabela\n",
    "orders.head"
   ]
  },
  {
   "cell_type": "code",
   "execution_count": 4,
   "id": "054f44ed-06d7-4928-be50-d8833e44e044",
   "metadata": {},
   "outputs": [
    {
     "data": {
      "text/plain": [
       "order_id        0\n",
       "customer_id     0\n",
       "product_id      0\n",
       "order_date      0\n",
       "order_status    0\n",
       "dtype: int64"
      ]
     },
     "execution_count": 4,
     "metadata": {},
     "output_type": "execute_result"
    }
   ],
   "source": [
    "# Verificando inconsistência de \"orders.csv\"\n",
    "orders.isnull().sum() # Verifica se existem entradas nulas"
   ]
  },
  {
   "cell_type": "code",
   "execution_count": 5,
   "id": "a69809d3-129e-433f-a93e-b129291caa5e",
   "metadata": {},
   "outputs": [
    {
     "data": {
      "text/html": [
       "<div>\n",
       "<style scoped>\n",
       "    .dataframe tbody tr th:only-of-type {\n",
       "        vertical-align: middle;\n",
       "    }\n",
       "\n",
       "    .dataframe tbody tr th {\n",
       "        vertical-align: top;\n",
       "    }\n",
       "\n",
       "    .dataframe thead th {\n",
       "        text-align: right;\n",
       "    }\n",
       "</style>\n",
       "<table border=\"1\" class=\"dataframe\">\n",
       "  <thead>\n",
       "    <tr style=\"text-align: right;\">\n",
       "      <th></th>\n",
       "      <th>order_id</th>\n",
       "      <th>customer_id</th>\n",
       "      <th>product_id</th>\n",
       "      <th>order_date</th>\n",
       "      <th>order_status</th>\n",
       "    </tr>\n",
       "  </thead>\n",
       "  <tbody>\n",
       "  </tbody>\n",
       "</table>\n",
       "</div>"
      ],
      "text/plain": [
       "Empty DataFrame\n",
       "Columns: [order_id, customer_id, product_id, order_date, order_status]\n",
       "Index: []"
      ]
     },
     "execution_count": 5,
     "metadata": {},
     "output_type": "execute_result"
    }
   ],
   "source": [
    "orders[orders.duplicated()] # Verifica se existem ordens duplicadas"
   ]
  },
  {
   "cell_type": "code",
   "execution_count": 6,
   "id": "86babc3a-b449-42af-b3e6-c9de4ce9a104",
   "metadata": {},
   "outputs": [],
   "source": [
    "# Não existem dados nulos ou entradas duplicadas nesta tabela.\n",
    "# Então, vamos verificar o tipo das variáveis e mudar o tipo da variável order_date para date"
   ]
  },
  {
   "cell_type": "code",
   "execution_count": 7,
   "id": "6e57643a-a170-486a-8015-17a6425e7a6d",
   "metadata": {},
   "outputs": [
    {
     "data": {
      "text/plain": [
       "order_id        object\n",
       "customer_id     object\n",
       "product_id      object\n",
       "order_date      object\n",
       "order_status    object\n",
       "dtype: object"
      ]
     },
     "execution_count": 7,
     "metadata": {},
     "output_type": "execute_result"
    }
   ],
   "source": [
    "orders.dtypes"
   ]
  },
  {
   "cell_type": "code",
   "execution_count": 8,
   "id": "1456bc8f-d458-4856-b40e-b6d97a848e83",
   "metadata": {},
   "outputs": [],
   "source": [
    "#irei converter de object para datetime: pd.to_datetime(orders['order_date']\n",
    "orders[\"order_date\"] = pd.to_datetime(orders['order_date'], errors='coerce', dayfirst=False)"
   ]
  },
  {
   "cell_type": "code",
   "execution_count": 9,
   "id": "fe2f5359-6132-42f8-ba7c-2861c92d0b2a",
   "metadata": {},
   "outputs": [
    {
     "data": {
      "text/plain": [
       "order_id                object\n",
       "customer_id             object\n",
       "product_id              object\n",
       "order_date      datetime64[ns]\n",
       "order_status            object\n",
       "dtype: object"
      ]
     },
     "execution_count": 9,
     "metadata": {},
     "output_type": "execute_result"
    }
   ],
   "source": [
    "#agora verifico se order_date esta no tipo correta de data\n",
    "orders.dtypes"
   ]
  },
  {
   "cell_type": "code",
   "execution_count": 10,
   "id": "aa166ed2-cf41-4cc0-95ea-0cc3f25aba41",
   "metadata": {},
   "outputs": [
    {
     "data": {
      "text/html": [
       "<div>\n",
       "<style scoped>\n",
       "    .dataframe tbody tr th:only-of-type {\n",
       "        vertical-align: middle;\n",
       "    }\n",
       "\n",
       "    .dataframe tbody tr th {\n",
       "        vertical-align: top;\n",
       "    }\n",
       "\n",
       "    .dataframe thead th {\n",
       "        text-align: right;\n",
       "    }\n",
       "</style>\n",
       "<table border=\"1\" class=\"dataframe\">\n",
       "  <thead>\n",
       "    <tr style=\"text-align: right;\">\n",
       "      <th></th>\n",
       "      <th>order_id</th>\n",
       "      <th>customer_id</th>\n",
       "      <th>product_id</th>\n",
       "      <th>order_date</th>\n",
       "      <th>order_status</th>\n",
       "    </tr>\n",
       "  </thead>\n",
       "  <tbody>\n",
       "    <tr>\n",
       "      <th>0</th>\n",
       "      <td>O0001</td>\n",
       "      <td>C007</td>\n",
       "      <td>P008</td>\n",
       "      <td>2025-02-26</td>\n",
       "      <td>Delivered</td>\n",
       "    </tr>\n",
       "    <tr>\n",
       "      <th>1</th>\n",
       "      <td>O0002</td>\n",
       "      <td>C020</td>\n",
       "      <td>P014</td>\n",
       "      <td>2025-02-01</td>\n",
       "      <td>Delivered</td>\n",
       "    </tr>\n",
       "    <tr>\n",
       "      <th>2</th>\n",
       "      <td>O0003</td>\n",
       "      <td>C029</td>\n",
       "      <td>P008</td>\n",
       "      <td>2025-02-23</td>\n",
       "      <td>Delivered</td>\n",
       "    </tr>\n",
       "    <tr>\n",
       "      <th>3</th>\n",
       "      <td>O0004</td>\n",
       "      <td>C015</td>\n",
       "      <td>P016</td>\n",
       "      <td>2025-04-21</td>\n",
       "      <td>Delivered</td>\n",
       "    </tr>\n",
       "    <tr>\n",
       "      <th>4</th>\n",
       "      <td>O0005</td>\n",
       "      <td>C011</td>\n",
       "      <td>P013</td>\n",
       "      <td>2025-04-21</td>\n",
       "      <td>Delivered</td>\n",
       "    </tr>\n",
       "  </tbody>\n",
       "</table>\n",
       "</div>"
      ],
      "text/plain": [
       "  order_id customer_id product_id order_date order_status\n",
       "0    O0001        C007       P008 2025-02-26    Delivered\n",
       "1    O0002        C020       P014 2025-02-01    Delivered\n",
       "2    O0003        C029       P008 2025-02-23    Delivered\n",
       "3    O0004        C015       P016 2025-04-21    Delivered\n",
       "4    O0005        C011       P013 2025-04-21    Delivered"
      ]
     },
     "execution_count": 10,
     "metadata": {},
     "output_type": "execute_result"
    }
   ],
   "source": [
    "orders.head()"
   ]
  },
  {
   "cell_type": "code",
   "execution_count": 11,
   "id": "ccb0f3e5-8acf-4fa7-a102-4208c35c3564",
   "metadata": {},
   "outputs": [],
   "source": [
    "# agora a tabela \"inventory.csv\""
   ]
  },
  {
   "cell_type": "code",
   "execution_count": 12,
   "id": "b60ea41e-2d80-4bbf-8d56-11bbc5e0ff8a",
   "metadata": {},
   "outputs": [
    {
     "data": {
      "text/plain": [
       "<bound method NDFrame.head of    product_id warehouse_id  stock_quantity\n",
       "0        P001          W01              95\n",
       "1        P001          W02              47\n",
       "2        P001          W03              88\n",
       "3        P002          W01               0\n",
       "4        P002          W02              15\n",
       "5        P002          W03              60\n",
       "6        P003          W01              63\n",
       "7        P003          W02              62\n",
       "8        P003          W03              68\n",
       "9        P004          W01              21\n",
       "10       P004          W02              92\n",
       "11       P004          W03              66\n",
       "12       P005          W01              75\n",
       "13       P005          W02              25\n",
       "14       P005          W03              15\n",
       "15       P006          W01              50\n",
       "16       P006          W02              85\n",
       "17       P006          W03              56\n",
       "18       P007          W01              28\n",
       "19       P007          W02              77\n",
       "20       P007          W03              91\n",
       "21       P008          W01              68\n",
       "22       P008          W02              46\n",
       "23       P008          W03              93\n",
       "24       P009          W01              61\n",
       "25       P009          W02              68\n",
       "26       P009          W03              75\n",
       "27       P010          W01              15\n",
       "28       P010          W02              89\n",
       "29       P010          W03              89\n",
       "30       P011          W01              47\n",
       "31       P011          W02              84\n",
       "32       P011          W03              38\n",
       "33       P012          W01              99\n",
       "34       P012          W02              32\n",
       "35       P012          W03              93\n",
       "36       P013          W01              22\n",
       "37       P013          W02               9\n",
       "38       P013          W03              68\n",
       "39       P014          W01              99\n",
       "40       P014          W02              33\n",
       "41       P014          W03              51\n",
       "42       P015          W01              94\n",
       "43       P015          W02               9\n",
       "44       P015          W03              18\n",
       "45       P016          W01              57\n",
       "46       P016          W02              95\n",
       "47       P016          W03               0\n",
       "48       P017          W01              68\n",
       "49       P017          W02               3\n",
       "50       P017          W03              15\n",
       "51       P018          W01              23\n",
       "52       P018          W02              79\n",
       "53       P018          W03               1\n",
       "54       P019          W01              91\n",
       "55       P019          W02              31\n",
       "56       P019          W03              90>"
      ]
     },
     "execution_count": 12,
     "metadata": {},
     "output_type": "execute_result"
    }
   ],
   "source": [
    "inventory.head"
   ]
  },
  {
   "cell_type": "code",
   "execution_count": 13,
   "id": "5c7a82ef-c550-4b25-84ef-66f0c7d93b8c",
   "metadata": {},
   "outputs": [
    {
     "data": {
      "text/plain": [
       "product_id        0\n",
       "warehouse_id      0\n",
       "stock_quantity    0\n",
       "dtype: int64"
      ]
     },
     "execution_count": 13,
     "metadata": {},
     "output_type": "execute_result"
    }
   ],
   "source": [
    "inventory.isnull().sum() # Verifica se existem entradas nulas"
   ]
  },
  {
   "cell_type": "code",
   "execution_count": 14,
   "id": "223e827b-2219-4559-8149-01ce7004826c",
   "metadata": {},
   "outputs": [
    {
     "data": {
      "text/html": [
       "<div>\n",
       "<style scoped>\n",
       "    .dataframe tbody tr th:only-of-type {\n",
       "        vertical-align: middle;\n",
       "    }\n",
       "\n",
       "    .dataframe tbody tr th {\n",
       "        vertical-align: top;\n",
       "    }\n",
       "\n",
       "    .dataframe thead th {\n",
       "        text-align: right;\n",
       "    }\n",
       "</style>\n",
       "<table border=\"1\" class=\"dataframe\">\n",
       "  <thead>\n",
       "    <tr style=\"text-align: right;\">\n",
       "      <th></th>\n",
       "      <th>product_id</th>\n",
       "      <th>warehouse_id</th>\n",
       "      <th>stock_quantity</th>\n",
       "    </tr>\n",
       "  </thead>\n",
       "  <tbody>\n",
       "  </tbody>\n",
       "</table>\n",
       "</div>"
      ],
      "text/plain": [
       "Empty DataFrame\n",
       "Columns: [product_id, warehouse_id, stock_quantity]\n",
       "Index: []"
      ]
     },
     "execution_count": 14,
     "metadata": {},
     "output_type": "execute_result"
    }
   ],
   "source": [
    "inventory[inventory.duplicated()] # Verifica se existem ordens duplicadas"
   ]
  },
  {
   "cell_type": "code",
   "execution_count": 15,
   "id": "24b7c974-4519-4518-8dde-f19da348e19d",
   "metadata": {},
   "outputs": [
    {
     "data": {
      "text/plain": [
       "product_id        object\n",
       "warehouse_id      object\n",
       "stock_quantity     int64\n",
       "dtype: object"
      ]
     },
     "execution_count": 15,
     "metadata": {},
     "output_type": "execute_result"
    }
   ],
   "source": [
    "#verificar os tipos das variaveis, estao todas coerentes\n",
    "inventory.dtypes "
   ]
  },
  {
   "cell_type": "code",
   "execution_count": 16,
   "id": "b14b4ccf-c83b-4428-9a1f-c4253eb7baef",
   "metadata": {},
   "outputs": [],
   "source": [
    "# agora a tabela \"shipments.csv\""
   ]
  },
  {
   "cell_type": "code",
   "execution_count": 17,
   "id": "46be43fa-8712-4abb-b3d3-6347d0f7ba48",
   "metadata": {},
   "outputs": [
    {
     "data": {
      "text/plain": [
       "<bound method NDFrame.head of    shipment_id order_id   carrier      status\n",
       "0        S0001    O0001  CarrierA   Delivered\n",
       "1        S0002    O0027  CarrierB   Delivered\n",
       "2        S0003    O0076  CarrierB   Delivered\n",
       "3        S0004    O0078  CarrierB   Delivered\n",
       "4        S0005    O0006  CarrierB   Delivered\n",
       "..         ...      ...       ...         ...\n",
       "75       S0076    O0008  CarrierB  In Transit\n",
       "76       S0077    O0096  CarrierC  In Transit\n",
       "77       S0078    O0002  CarrierA     Delayed\n",
       "78       S0079    O0046  CarrierA   Delivered\n",
       "79       S0080    O0090  CarrierC   Delivered\n",
       "\n",
       "[80 rows x 4 columns]>"
      ]
     },
     "execution_count": 17,
     "metadata": {},
     "output_type": "execute_result"
    }
   ],
   "source": [
    "ship.head"
   ]
  },
  {
   "cell_type": "code",
   "execution_count": 18,
   "id": "d5779dcc-f0b8-43aa-ac3c-4ea8168d3710",
   "metadata": {},
   "outputs": [
    {
     "data": {
      "text/plain": [
       "shipment_id    0\n",
       "order_id       0\n",
       "carrier        0\n",
       "status         0\n",
       "dtype: int64"
      ]
     },
     "execution_count": 18,
     "metadata": {},
     "output_type": "execute_result"
    }
   ],
   "source": [
    "#verificar se tem, dados nulos\n",
    "ship.isnull().sum()"
   ]
  },
  {
   "cell_type": "code",
   "execution_count": 19,
   "id": "3b454fd2-1770-4f69-a0cd-873545f14c4b",
   "metadata": {},
   "outputs": [
    {
     "data": {
      "text/html": [
       "<div>\n",
       "<style scoped>\n",
       "    .dataframe tbody tr th:only-of-type {\n",
       "        vertical-align: middle;\n",
       "    }\n",
       "\n",
       "    .dataframe tbody tr th {\n",
       "        vertical-align: top;\n",
       "    }\n",
       "\n",
       "    .dataframe thead th {\n",
       "        text-align: right;\n",
       "    }\n",
       "</style>\n",
       "<table border=\"1\" class=\"dataframe\">\n",
       "  <thead>\n",
       "    <tr style=\"text-align: right;\">\n",
       "      <th></th>\n",
       "      <th>shipment_id</th>\n",
       "      <th>order_id</th>\n",
       "      <th>carrier</th>\n",
       "      <th>status</th>\n",
       "    </tr>\n",
       "  </thead>\n",
       "  <tbody>\n",
       "  </tbody>\n",
       "</table>\n",
       "</div>"
      ],
      "text/plain": [
       "Empty DataFrame\n",
       "Columns: [shipment_id, order_id, carrier, status]\n",
       "Index: []"
      ]
     },
     "execution_count": 19,
     "metadata": {},
     "output_type": "execute_result"
    }
   ],
   "source": [
    "#verificar se existem dados duplicados, neste caso nao existem dados duplicados\n",
    "ship[ship.duplicated()]"
   ]
  },
  {
   "cell_type": "code",
   "execution_count": 20,
   "id": "6e9ac8a5-718b-4fb1-9b93-3c98a9dd1db7",
   "metadata": {},
   "outputs": [
    {
     "data": {
      "text/plain": [
       "shipment_id    object\n",
       "order_id       object\n",
       "carrier        object\n",
       "status         object\n",
       "dtype: object"
      ]
     },
     "execution_count": 20,
     "metadata": {},
     "output_type": "execute_result"
    }
   ],
   "source": [
    "#verificar o tipo das variaveis\n",
    "ship.dtypes"
   ]
  },
  {
   "cell_type": "code",
   "execution_count": 21,
   "id": "ed1e89c4-2941-4302-86b0-5515f9fbc1f9",
   "metadata": {},
   "outputs": [
    {
     "data": {
      "text/html": [
       "<div>\n",
       "<style scoped>\n",
       "    .dataframe tbody tr th:only-of-type {\n",
       "        vertical-align: middle;\n",
       "    }\n",
       "\n",
       "    .dataframe tbody tr th {\n",
       "        vertical-align: top;\n",
       "    }\n",
       "\n",
       "    .dataframe thead th {\n",
       "        text-align: right;\n",
       "    }\n",
       "</style>\n",
       "<table border=\"1\" class=\"dataframe\">\n",
       "  <thead>\n",
       "    <tr style=\"text-align: right;\">\n",
       "      <th></th>\n",
       "      <th>shipment_id</th>\n",
       "      <th>order_id</th>\n",
       "      <th>carrier</th>\n",
       "      <th>status</th>\n",
       "    </tr>\n",
       "  </thead>\n",
       "  <tbody>\n",
       "    <tr>\n",
       "      <th>0</th>\n",
       "      <td>S0001</td>\n",
       "      <td>O0001</td>\n",
       "      <td>CarrierA</td>\n",
       "      <td>Delivered</td>\n",
       "    </tr>\n",
       "    <tr>\n",
       "      <th>1</th>\n",
       "      <td>S0002</td>\n",
       "      <td>O0027</td>\n",
       "      <td>CarrierB</td>\n",
       "      <td>Delivered</td>\n",
       "    </tr>\n",
       "    <tr>\n",
       "      <th>2</th>\n",
       "      <td>S0003</td>\n",
       "      <td>O0076</td>\n",
       "      <td>CarrierB</td>\n",
       "      <td>Delivered</td>\n",
       "    </tr>\n",
       "    <tr>\n",
       "      <th>3</th>\n",
       "      <td>S0004</td>\n",
       "      <td>O0078</td>\n",
       "      <td>CarrierB</td>\n",
       "      <td>Delivered</td>\n",
       "    </tr>\n",
       "    <tr>\n",
       "      <th>4</th>\n",
       "      <td>S0005</td>\n",
       "      <td>O0006</td>\n",
       "      <td>CarrierB</td>\n",
       "      <td>Delivered</td>\n",
       "    </tr>\n",
       "  </tbody>\n",
       "</table>\n",
       "</div>"
      ],
      "text/plain": [
       "  shipment_id order_id   carrier     status\n",
       "0       S0001    O0001  CarrierA  Delivered\n",
       "1       S0002    O0027  CarrierB  Delivered\n",
       "2       S0003    O0076  CarrierB  Delivered\n",
       "3       S0004    O0078  CarrierB  Delivered\n",
       "4       S0005    O0006  CarrierB  Delivered"
      ]
     },
     "execution_count": 21,
     "metadata": {},
     "output_type": "execute_result"
    }
   ],
   "source": [
    "ship.head()"
   ]
  },
  {
   "cell_type": "code",
   "execution_count": 22,
   "id": "2f1cbfd4-f8f2-49a8-b68d-d9a8bd85666f",
   "metadata": {},
   "outputs": [
    {
     "data": {
      "text/plain": [
       "status\n",
       "Delivered     61\n",
       "In Transit    11\n",
       "Delayed        8\n",
       "Name: count, dtype: int64"
      ]
     },
     "execution_count": 22,
     "metadata": {},
     "output_type": "execute_result"
    }
   ],
   "source": [
    "ship['status'].value_counts()"
   ]
  },
  {
   "cell_type": "code",
   "execution_count": 23,
   "id": "3545383e-e044-4bbe-aa63-0facc2c8fef2",
   "metadata": {},
   "outputs": [],
   "source": [
    "# Agora vamos procurar inconsistencias entre tabelas para confirmar relacoes"
   ]
  },
  {
   "cell_type": "code",
   "execution_count": 24,
   "id": "60f658a8-51ab-44f2-bf06-aa8583f51243",
   "metadata": {},
   "outputs": [],
   "source": [
    "# procura ordem de produto nao cadastrado na tabela inventory\n",
    "for item in orders['product_id']:\n",
    "    # se product_id esta na tabela inventory['product_id'] nao faz nada\n",
    "    if item in inventory['product_id'].values:\n",
    "        continue\n",
    "    # caso contrario, detecta a ordem inconsistente\n",
    "    else: \n",
    "        print(\"produto\", item, \" inconsistente\")\n",
    "        # orders = orders[orders['product_id'] != item]"
   ]
  },
  {
   "cell_type": "code",
   "execution_count": 25,
   "id": "c7dff17a-3f27-4cd7-9d6e-aa225fa98134",
   "metadata": {},
   "outputs": [
    {
     "name": "stdout",
     "output_type": "stream",
     "text": [
      "ordem O0012 incosistente\n",
      "ordem O0013 incosistente\n",
      "ordem O0024 incosistente\n",
      "ordem O0029 incosistente\n",
      "ordem O0033 incosistente\n",
      "ordem O0035 incosistente\n",
      "ordem O0040 incosistente\n",
      "ordem O0043 incosistente\n",
      "ordem O0044 incosistente\n",
      "ordem O0050 incosistente\n",
      "ordem O0051 incosistente\n",
      "ordem O0061 incosistente\n",
      "ordem O0065 incosistente\n",
      "ordem O0067 incosistente\n",
      "ordem O0074 incosistente\n",
      "ordem O0084 incosistente\n",
      "ordem O0091 incosistente\n",
      "ordem O0094 incosistente\n",
      "ordem O0095 incosistente\n",
      "ordem O0098 incosistente\n"
     ]
    }
   ],
   "source": [
    "# verifica se existe uma entrega (shipment) para toda ordem realizada\n",
    "for item in orders['order_id']:\n",
    "    # se item estiver contido em ship['order_id'], entao tudo certo\n",
    "    if item in ship['order_id'].values:\n",
    "        continue\n",
    "    # caso contrario, vamos acusar a inconsistencia de dados\n",
    "    else:\n",
    "        print(\"ordem\", item, \"incosistente\")\n",
    "        # orders = orders[orders['order_id'] != item]"
   ]
  },
  {
   "cell_type": "code",
   "execution_count": 26,
   "id": "b0388a45-45b4-4235-8622-3d582f6eed48",
   "metadata": {},
   "outputs": [
    {
     "name": "stdout",
     "output_type": "stream",
     "text": [
      "['S0076']\n",
      "['S0065']\n",
      "['S0067']\n",
      "['S0075']\n",
      "['S0042']\n",
      "['S0054']\n",
      "['S0013']\n",
      "['S0009']\n",
      "['S0020']\n",
      "['S0062']\n"
     ]
    }
   ],
   "source": [
    "#verifica na tabela entregas se existem compras que foram canceladsa em orders e nao deveriam estar como entregues \n",
    "\n",
    "# obtem o order_id de compras canceladas\n",
    "compras_canceladas = orders[orders[\"order_status\"] == 'Canceled']['order_id'].values\n",
    "\n",
    "# verifica se as ordens canceladas estao na tabela shipments\n",
    "for item in compras_canceladas:\n",
    "    # caso verdadeiro, temos inconsistencias\n",
    "    if item in ship['order_id'].values:\n",
    "        print(ship[ship['order_id'] == item]['shipment_id'].values) # ordem inconsistente"
   ]
  },
  {
   "cell_type": "code",
   "execution_count": 27,
   "id": "c826e0a8-d0eb-495d-ab8c-a6b4d4627b48",
   "metadata": {},
   "outputs": [
    {
     "name": "stdout",
     "output_type": "stream",
     "text": [
      "['S0078']\n",
      "['S0063']\n",
      "['S0041']\n",
      "['S0045']\n",
      "['S0053']\n",
      "['S0037']\n",
      "['S0049']\n",
      "['S0057']\n",
      "['S0061']\n",
      "['S0046']\n",
      "['S0077']\n"
     ]
    }
   ],
   "source": [
    "# tratamento na tabela orders em order_status onde consta 'entregue', na shipments[\"status\"] nao esta atrasado ou em transito\n",
    "\n",
    "# order_status entregue no ship tambem entregue\n",
    "compras_entregues = orders[orders[\"order_status\"] == 'Delivered']['order_id'].values\n",
    "\n",
    "# item percorre compras_entregues\n",
    "for item in compras_entregues:\n",
    "    # se item esta contido em ship.order_id\n",
    "    if item in ship['order_id'].values:\n",
    "        entregues = ship[ship['order_id'] == item]\n",
    "        status = entregues['status'].values\n",
    "        #se nao consta em shipments entregue, na tabela orders esta inconsistente \n",
    "        if (status != \"Delivered\"):\n",
    "             print(entregues.shipment_id.values)"
   ]
  },
  {
   "cell_type": "code",
   "execution_count": 28,
   "id": "7f3e5345-dbdb-4f25-a5e7-8086064d4ae0",
   "metadata": {},
   "outputs": [
    {
     "name": "stdout",
     "output_type": "stream",
     "text": [
      "['S0005']\n",
      "['S0024']\n",
      "['S0051']\n",
      "['S0073']\n",
      "['S0043']\n",
      "['S0039']\n",
      "['S0070']\n",
      "['S0031']\n",
      "['S0004']\n",
      "['S0069']\n",
      "['S0074']\n",
      "['S0028']\n"
     ]
    }
   ],
   "source": [
    "# tratamento na tabela orders em order_status onde consta 'enviado', na shipments[\"status\"] tem que estar atrasado ou em transito\n",
    "\n",
    "# obtem os valores de order_id de compras que estao enviadas\n",
    "compras_enviadas = orders[orders[\"order_status\"] == 'Shipped']['order_id'].values\n",
    "\n",
    "\n",
    "# item percorre compras_enviadas\n",
    "for item in compras_enviadas:\n",
    "    # se item esta contido em ship.order_id\n",
    "    if item in ship['order_id'].values:\n",
    "        verifica = ship[ship['order_id'] == item]\n",
    "        status = verifica['status'].values \n",
    "        # se nao esta em transito ou atrasado entao esta inconsistente\n",
    "        if status != \"In Transit\" and status != \"Delayed\":\n",
    "            print(verifica.shipment_id.values)\n",
    "\n"
   ]
  },
  {
   "cell_type": "code",
   "execution_count": 29,
   "id": "42aa62d5-463c-400a-92ba-3df894ca88f8",
   "metadata": {},
   "outputs": [],
   "source": [
    "# obtem ultimos 30 dias de produtos que foram vendidos e nao cancelados\n",
    "hj = datetime.today()\n",
    "dia_limite = hj - timedelta(days=30)\n",
    "ultimos_30 = orders[orders.order_date >= dia_limite]\n",
    "ultimos_30 = ultimos_30[ultimos_30[\"order_status\"] != \"Canceled\"]\n",
    "\n",
    "# obtem valores de product_id unicos dos ultimos 30 dias\n",
    "unique_id = ultimos_30[\"product_id\"].unique() "
   ]
  },
  {
   "cell_type": "code",
   "execution_count": 30,
   "id": "98bc1ab5-5ce5-4ea9-89e2-bed895cd012f",
   "metadata": {},
   "outputs": [
    {
     "name": "stdout",
     "output_type": "stream",
     "text": [
      "  product_id warehouse_id  recommended_restock_quantity\n",
      "0       P016          W03                             1\n",
      "1       P002          W01                             1\n"
     ]
    }
   ],
   "source": [
    "# envia mensagem para repor estoque dos armazens\n",
    "\n",
    "# cria dataframe para reposicao\n",
    "reposicao = pd.DataFrame(columns=['product_id', 'warehouse_id', 'recommended_restock_quantity'])\n",
    "# percorre valor unico do product_id\n",
    "for item in unique_id:\n",
    "    # conta os id dos produtos que venderam nos ultimos 30 dias\n",
    "    vendas_item = len(ultimos_30[ultimos_30['product_id'] == item])\n",
    "    estoques = inventory[inventory['product_id'] == item]\n",
    "    # percorre as linhas de estoques\n",
    "    for estoque in estoques.itertuples():\n",
    "        # se no stock_quantity estiver um valor menor que vendas nos ultimos 30 dias, pede reposicao do produto na tabela reposicao\n",
    "        if (estoque.stock_quantity < vendas_item):\n",
    "             reposicao.loc[len(reposicao)] = [item, estoque.warehouse_id, vendas_item - estoque.stock_quantity]\n",
    "\n",
    "print(reposicao)   "
   ]
  },
  {
   "cell_type": "code",
   "execution_count": 31,
   "id": "24a1f187-0280-4331-a2d4-002af4277eb4",
   "metadata": {},
   "outputs": [
    {
     "data": {
      "text/plain": [
       "product_id\n",
       "P001    8\n",
       "P003    8\n",
       "P007    8\n",
       "P005    7\n",
       "P012    6\n",
       "Name: quantidade, dtype: int64"
      ]
     },
     "execution_count": 31,
     "metadata": {},
     "output_type": "execute_result"
    }
   ],
   "source": [
    "# filtra 5 produtos mais vendidos\n",
    "\n",
    "# calculo ultimo trimestre\n",
    "hj = datetime.today()\n",
    "dia_limite = hj - timedelta(days=90)\n",
    "# dia_limite para obter o trimestre\n",
    "ultimo_trimestre = orders[orders.order_date >= dia_limite]\n",
    "# filtro os ultimos 90 dias tirando as compras canceladas\n",
    "ultimo_trimestre = ultimo_trimestre[ultimo_trimestre[\"order_status\"] != \"Canceled\"]\n",
    "\n",
    "# coluna quantidade criada para ser utilizada no groupby\n",
    "ultimo_trimestre['quantidade'] = 1\n",
    "\n",
    "mais_vendidos = ultimo_trimestre.groupby('product_id')['quantidade'].sum()\n",
    "\n",
    "# maior para o menor e pega os 5 primeiros\n",
    "mais_vendidos.sort_values(ascending=False).head(5)"
   ]
  },
  {
   "cell_type": "code",
   "execution_count": 32,
   "id": "b967acc1-da3e-4282-aac5-cbf396b25b3e",
   "metadata": {},
   "outputs": [
    {
     "name": "stdout",
     "output_type": "stream",
     "text": [
      "  trimestre w01 w02 w03\n",
      "0         1  95  47  88\n",
      "1         2  92  44  85\n",
      "2         3  89  41  82\n",
      "3         4  86  38  79\n"
     ]
    }
   ],
   "source": [
    "# visualizacao em grafico de linhas para mostrar tendencia de vendas\n",
    "\n",
    "# criar dataframe para ser utilizado no grafico de linhas\n",
    "dados_trimestre = pd.DataFrame(columns=['trimestre', 'w01', 'w02', 'w03'])\n",
    "dados_trimestre.head()\n",
    "\n",
    "# produto P001 escolhido como exemplo para plotar o grafico\n",
    "conjunto_p001 = inventory[inventory[\"product_id\"] == 'P001']\n",
    "\n",
    "\n",
    "# quantas vezes vendeu o produto P001\n",
    "vendas = len(ultimo_trimestre[ultimo_trimestre['product_id'] == 'P001'])\n",
    "vendas = math.ceil(vendas/3) # todas das vendas dividido por 3 armazens\n",
    "\n",
    "# popular o dataframe nas celulas corretas\n",
    "dados_trimestre.loc[0, 'trimestre'] = 1\n",
    "dados_trimestre.loc[1, 'trimestre'] = 2\n",
    "dados_trimestre.loc[2, 'trimestre'] = 3\n",
    "dados_trimestre.loc[3, 'trimestre'] = 4\n",
    "\n",
    "# conjunto percorre linhas onde P001 existe\n",
    "for conjunto in conjunto_p001.itertuples():\n",
    "    # se P001 se encontra no armazem w01 sera preenchido na celula correspondente\n",
    "    if conjunto.warehouse_id == \"W01\":\n",
    "        dados_trimestre.loc[0, 'w01'] = conjunto.stock_quantity\n",
    "        dados_trimestre.loc[1, 'w01'] = conjunto.stock_quantity - vendas\n",
    "        dados_trimestre.loc[2, 'w01'] = conjunto.stock_quantity - 2*vendas\n",
    "        dados_trimestre.loc[3, 'w01'] = conjunto.stock_quantity - 3*vendas\n",
    "    elif conjunto.warehouse_id == \"W02\":\n",
    "        dados_trimestre.loc[0, 'w02'] = conjunto.stock_quantity\n",
    "        dados_trimestre.loc[1, 'w02'] = conjunto.stock_quantity - vendas\n",
    "        dados_trimestre.loc[2, 'w02'] = conjunto.stock_quantity - 2*vendas\n",
    "        dados_trimestre.loc[3, 'w02'] = conjunto.stock_quantity - 3*vendas\n",
    "    elif conjunto.warehouse_id == \"W03\":\n",
    "        dados_trimestre.loc[0, 'w03'] = conjunto.stock_quantity\n",
    "        dados_trimestre.loc[1, 'w03'] = conjunto.stock_quantity - vendas\n",
    "        dados_trimestre.loc[2, 'w03'] = conjunto.stock_quantity - 2*vendas\n",
    "        dados_trimestre.loc[3, 'w03'] = conjunto.stock_quantity - 3*vendas\n",
    "\n",
    "\n",
    "print(dados_trimestre)\n",
    "    "
   ]
  },
  {
   "cell_type": "code",
   "execution_count": 33,
   "id": "dde45381-35d6-4021-9e5d-35664f3e1dca",
   "metadata": {},
   "outputs": [
    {
     "data": {
      "image/png": "[encoded data removed]",
      "text/plain": [
       "<Figure size 640x480 with 1 Axes>"
      ]
     },
     "metadata": {},
     "output_type": "display_data"
    }
   ],
   "source": [
    "# visualizacao no grafico de linhas\n",
    "\n",
    "# dataframe que foi feito para plotar o grafico\n",
    "dados_trimestre.plot(x='trimestre', y=['w01', 'w02', 'w03'], kind= 'line', marker= 'o')\n",
    "# titulos \n",
    "plt.xlabel('Trimestre')\n",
    "plt.ylabel('Estoque')\n",
    "plt.show()"
   ]
  }
 ],
 "metadata": {
  "kernelspec": {
   "display_name": "Python 3 (ipykernel)",
   "language": "python",
   "name": "python3"
  },
  "language_info": {
   "codemirror_mode": {
    "name": "ipython",
    "version": 3
   },
   "file_extension": ".py",
   "mimetype": "text/x-python",
   "name": "python",
   "nbconvert_exporter": "python",
   "pygments_lexer": "ipython3",
   "version": "3.12.7"
  }
 },
 "nbformat": 4,
 "nbformat_minor": 5
}
