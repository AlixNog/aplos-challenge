{
 "cells": [
  {
   "cell_type": "code",
   "execution_count": 26,
   "id": "5c143fab-abe4-4864-96b6-b75bc469a72f",
   "metadata": {},
   "outputs": [],
   "source": [
    "# Carregando as principais bibliotecas\n",
    "import numpy as np\n",
    "import pandas as pd\n",
    "import matplotlib.pyplot as plt\n",
    "import seaborn as sns\n",
    "import datetime as dt"
   ]
  },
  {
   "cell_type": "code",
   "execution_count": 27,
   "id": "d6f54a05-4c7f-4b8d-9b63-ac580b2f3dc6",
   "metadata": {},
   "outputs": [],
   "source": [
    "# Carregando os arquivos .csv e salvando em Pandas\n",
    "orders = pd.read_csv(\"Orders.csv\")\n",
    "inventory = pd.read_csv(\"Inventory.csv\")\n",
    "ship = pd.read_csv(\"Shipments.csv\")\n",
    "# Agora, vamos verificar inconsistências tabela por tabela"
   ]
  },
  {
   "cell_type": "code",
   "execution_count": 37,
   "id": "92f4b55b-aba7-4954-a962-ae77144c04fe",
   "metadata": {},
   "outputs": [
    {
     "data": {
      "text/plain": [
       "<bound method NDFrame.head of    order_id customer_id product_id  order_date order_status\n",
       "0     O0001        C007       P008  2025-02-26    Delivered\n",
       "1     O0002        C020       P014  2025-02-01    Delivered\n",
       "2     O0003        C029       P008  2025-02-23    Delivered\n",
       "3     O0004        C015       P016  2025-04-21    Delivered\n",
       "4     O0005        C011       P013  2025-04-21    Delivered\n",
       "..      ...         ...        ...         ...          ...\n",
       "95    O0096        C010       P007  2025-04-02    Delivered\n",
       "96    O0097        C004       P002  2025-03-06    Delivered\n",
       "97    O0098        C014       P003  2025-04-03      Pending\n",
       "98    O0099        C016       P017  2025-04-15     Canceled\n",
       "99    O0100        C015       P005  2025-04-16    Delivered\n",
       "\n",
       "[100 rows x 5 columns]>"
      ]
     },
     "execution_count": 37,
     "metadata": {},
     "output_type": "execute_result"
    }
   ],
   "source": [
    "# Vamos começar por \"orders.csv\"\n",
    "# Primeiramente, vamos explorar os dados para entender a tabela\n",
    "orders.head"
   ]
  },
  {
   "cell_type": "code",
   "execution_count": 28,
   "id": "054f44ed-06d7-4928-be50-d8833e44e044",
   "metadata": {},
   "outputs": [
    {
     "data": {
      "text/plain": [
       "order_id        0\n",
       "customer_id     0\n",
       "product_id      0\n",
       "order_date      0\n",
       "order_status    0\n",
       "dtype: int64"
      ]
     },
     "execution_count": 28,
     "metadata": {},
     "output_type": "execute_result"
    }
   ],
   "source": [
    "# Verificando consistência de \"orders.csv\"\n",
    "orders.isnull().sum() # Verifica se existem entradas nulas"
   ]
  },
  {
   "cell_type": "code",
   "execution_count": 29,
   "id": "a69809d3-129e-433f-a93e-b129291caa5e",
   "metadata": {},
   "outputs": [
    {
     "data": {
      "text/html": [
       "<div>\n",
       "<style scoped>\n",
       "    .dataframe tbody tr th:only-of-type {\n",
       "        vertical-align: middle;\n",
       "    }\n",
       "\n",
       "    .dataframe tbody tr th {\n",
       "        vertical-align: top;\n",
       "    }\n",
       "\n",
       "    .dataframe thead th {\n",
       "        text-align: right;\n",
       "    }\n",
       "</style>\n",
       "<table border=\"1\" class=\"dataframe\">\n",
       "  <thead>\n",
       "    <tr style=\"text-align: right;\">\n",
       "      <th></th>\n",
       "      <th>order_id</th>\n",
       "      <th>customer_id</th>\n",
       "      <th>product_id</th>\n",
       "      <th>order_date</th>\n",
       "      <th>order_status</th>\n",
       "    </tr>\n",
       "  </thead>\n",
       "  <tbody>\n",
       "  </tbody>\n",
       "</table>\n",
       "</div>"
      ],
      "text/plain": [
       "Empty DataFrame\n",
       "Columns: [order_id, customer_id, product_id, order_date, order_status]\n",
       "Index: []"
      ]
     },
     "execution_count": 29,
     "metadata": {},
     "output_type": "execute_result"
    }
   ],
   "source": [
    "orders[orders.duplicated()] # Verifica se existem ordens duplicadas"
   ]
  },
  {
   "cell_type": "code",
   "execution_count": null,
   "id": "86babc3a-b449-42af-b3e6-c9de4ce9a104",
   "metadata": {},
   "outputs": [],
   "source": [
    "# Não existem dados nulos ou entradas duplicadas nesta tabela.\n",
    "# Então, vamos verificar o tipo das variáveis e mudar o tipo da variável order_date para date"
   ]
  },
  {
   "cell_type": "code",
   "execution_count": 38,
   "id": "6e57643a-a170-486a-8015-17a6425e7a6d",
   "metadata": {},
   "outputs": [
    {
     "data": {
      "text/plain": [
       "order_id        object\n",
       "customer_id     object\n",
       "product_id      object\n",
       "order_date      object\n",
       "order_status    object\n",
       "dtype: object"
      ]
     },
     "execution_count": 38,
     "metadata": {},
     "output_type": "execute_result"
    }
   ],
   "source": [
    "orders.dtypes"
   ]
  },
  {
   "cell_type": "code",
   "execution_count": 44,
   "id": "1456bc8f-d458-4856-b40e-b6d97a848e83",
   "metadata": {},
   "outputs": [],
   "source": [
    "#irei converter de object para datetime: pd.to_datetime(orders['order_date']\n",
    "\n",
    "orders[\"order_date\"] = pd.to_datetime(orders['order_date'], errors='coerce', dayfirst=True)"
   ]
  },
  {
   "cell_type": "code",
   "execution_count": 45,
   "id": "fe2f5359-6132-42f8-ba7c-2861c92d0b2a",
   "metadata": {},
   "outputs": [
    {
     "data": {
      "text/plain": [
       "order_id                object\n",
       "customer_id             object\n",
       "product_id              object\n",
       "order_date      datetime64[ns]\n",
       "order_status            object\n",
       "dtype: object"
      ]
     },
     "execution_count": 45,
     "metadata": {},
     "output_type": "execute_result"
    }
   ],
   "source": [
    "#agora verifico se order_date esta no tipo correta de data\n",
    "\n",
    "orders.dtypes"
   ]
  },
  {
   "cell_type": "code",
   "execution_count": null,
   "id": "ccb0f3e5-8acf-4fa7-a102-4208c35c3564",
   "metadata": {},
   "outputs": [],
   "source": [
    "# agora a tabela \"inventory.csv\""
   ]
  },
  {
   "cell_type": "code",
   "execution_count": 46,
   "id": "b60ea41e-2d80-4bbf-8d56-11bbc5e0ff8a",
   "metadata": {},
   "outputs": [
    {
     "data": {
      "text/plain": [
       "<bound method NDFrame.head of    product_id warehouse_id  stock_quantity\n",
       "0        P001          W01              95\n",
       "1        P001          W02              47\n",
       "2        P001          W03              88\n",
       "3        P002          W01               0\n",
       "4        P002          W02              15\n",
       "5        P002          W03              60\n",
       "6        P003          W01              63\n",
       "7        P003          W02              62\n",
       "8        P003          W03              68\n",
       "9        P004          W01              21\n",
       "10       P004          W02              92\n",
       "11       P004          W03              66\n",
       "12       P005          W01              75\n",
       "13       P005          W02              25\n",
       "14       P005          W03              15\n",
       "15       P006          W01              50\n",
       "16       P006          W02              85\n",
       "17       P006          W03              56\n",
       "18       P007          W01              28\n",
       "19       P007          W02              77\n",
       "20       P007          W03              91\n",
       "21       P008          W01              68\n",
       "22       P008          W02              46\n",
       "23       P008          W03              93\n",
       "24       P009          W01              61\n",
       "25       P009          W02              68\n",
       "26       P009          W03              75\n",
       "27       P010          W01              15\n",
       "28       P010          W02              89\n",
       "29       P010          W03              89\n",
       "30       P011          W01              47\n",
       "31       P011          W02              84\n",
       "32       P011          W03              38\n",
       "33       P012          W01              99\n",
       "34       P012          W02              32\n",
       "35       P012          W03              93\n",
       "36       P013          W01              22\n",
       "37       P013          W02               9\n",
       "38       P013          W03              68\n",
       "39       P014          W01              99\n",
       "40       P014          W02              33\n",
       "41       P014          W03              51\n",
       "42       P015          W01              94\n",
       "43       P015          W02               9\n",
       "44       P015          W03              18\n",
       "45       P016          W01              57\n",
       "46       P016          W02              95\n",
       "47       P016          W03               0\n",
       "48       P017          W01              68\n",
       "49       P017          W02               3\n",
       "50       P017          W03              15\n",
       "51       P018          W01              23\n",
       "52       P018          W02              79\n",
       "53       P018          W03               1\n",
       "54       P019          W01              91\n",
       "55       P019          W02              31\n",
       "56       P019          W03              90>"
      ]
     },
     "execution_count": 46,
     "metadata": {},
     "output_type": "execute_result"
    }
   ],
   "source": [
    "inventory.head"
   ]
  },
  {
   "cell_type": "code",
   "execution_count": 47,
   "id": "5c7a82ef-c550-4b25-84ef-66f0c7d93b8c",
   "metadata": {},
   "outputs": [
    {
     "data": {
      "text/plain": [
       "product_id        0\n",
       "warehouse_id      0\n",
       "stock_quantity    0\n",
       "dtype: int64"
      ]
     },
     "execution_count": 47,
     "metadata": {},
     "output_type": "execute_result"
    }
   ],
   "source": [
    "inventory.isnull().sum() # Verifica se existem entradas nulas"
   ]
  },
  {
   "cell_type": "code",
   "execution_count": 48,
   "id": "223e827b-2219-4559-8149-01ce7004826c",
   "metadata": {},
   "outputs": [
    {
     "data": {
      "text/html": [
       "<div>\n",
       "<style scoped>\n",
       "    .dataframe tbody tr th:only-of-type {\n",
       "        vertical-align: middle;\n",
       "    }\n",
       "\n",
       "    .dataframe tbody tr th {\n",
       "        vertical-align: top;\n",
       "    }\n",
       "\n",
       "    .dataframe thead th {\n",
       "        text-align: right;\n",
       "    }\n",
       "</style>\n",
       "<table border=\"1\" class=\"dataframe\">\n",
       "  <thead>\n",
       "    <tr style=\"text-align: right;\">\n",
       "      <th></th>\n",
       "      <th>product_id</th>\n",
       "      <th>warehouse_id</th>\n",
       "      <th>stock_quantity</th>\n",
       "    </tr>\n",
       "  </thead>\n",
       "  <tbody>\n",
       "  </tbody>\n",
       "</table>\n",
       "</div>"
      ],
      "text/plain": [
       "Empty DataFrame\n",
       "Columns: [product_id, warehouse_id, stock_quantity]\n",
       "Index: []"
      ]
     },
     "execution_count": 48,
     "metadata": {},
     "output_type": "execute_result"
    }
   ],
   "source": [
    "inventory[inventory.duplicated()] # Verifica se existem ordens duplicadas"
   ]
  },
  {
   "cell_type": "code",
   "execution_count": 50,
   "id": "24b7c974-4519-4518-8dde-f19da348e19d",
   "metadata": {},
   "outputs": [
    {
     "data": {
      "text/plain": [
       "product_id        object\n",
       "warehouse_id      object\n",
       "stock_quantity     int64\n",
       "dtype: object"
      ]
     },
     "execution_count": 50,
     "metadata": {},
     "output_type": "execute_result"
    }
   ],
   "source": [
    "#verificar os tipos das variaveis, estao todas coerentes\n",
    "inventory.dtypes "
   ]
  },
  {
   "cell_type": "code",
   "execution_count": 51,
   "id": "b14b4ccf-c83b-4428-9a1f-c4253eb7baef",
   "metadata": {},
   "outputs": [],
   "source": [
    "# agora a tabela \"shipments.csv\""
   ]
  },
  {
   "cell_type": "code",
   "execution_count": 55,
   "id": "46be43fa-8712-4abb-b3d3-6347d0f7ba48",
   "metadata": {},
   "outputs": [
    {
     "data": {
      "text/plain": [
       "<bound method NDFrame.head of    shipment_id order_id   carrier      status\n",
       "0        S0001    O0001  CarrierA   Delivered\n",
       "1        S0002    O0027  CarrierB   Delivered\n",
       "2        S0003    O0076  CarrierB   Delivered\n",
       "3        S0004    O0078  CarrierB   Delivered\n",
       "4        S0005    O0006  CarrierB   Delivered\n",
       "..         ...      ...       ...         ...\n",
       "75       S0076    O0008  CarrierB  In Transit\n",
       "76       S0077    O0096  CarrierC  In Transit\n",
       "77       S0078    O0002  CarrierA     Delayed\n",
       "78       S0079    O0046  CarrierA   Delivered\n",
       "79       S0080    O0090  CarrierC   Delivered\n",
       "\n",
       "[80 rows x 4 columns]>"
      ]
     },
     "execution_count": 55,
     "metadata": {},
     "output_type": "execute_result"
    }
   ],
   "source": [
    "ship.head"
   ]
  },
  {
   "cell_type": "code",
   "execution_count": 56,
   "id": "d5779dcc-f0b8-43aa-ac3c-4ea8168d3710",
   "metadata": {},
   "outputs": [
    {
     "data": {
      "text/plain": [
       "shipment_id    0\n",
       "order_id       0\n",
       "carrier        0\n",
       "status         0\n",
       "dtype: int64"
      ]
     },
     "execution_count": 56,
     "metadata": {},
     "output_type": "execute_result"
    }
   ],
   "source": [
    "#verificar se tem, dados nulos\n",
    "ship.isnull().sum()"
   ]
  },
  {
   "cell_type": "code",
   "execution_count": 57,
   "id": "3b454fd2-1770-4f69-a0cd-873545f14c4b",
   "metadata": {},
   "outputs": [
    {
     "data": {
      "text/html": [
       "<div>\n",
       "<style scoped>\n",
       "    .dataframe tbody tr th:only-of-type {\n",
       "        vertical-align: middle;\n",
       "    }\n",
       "\n",
       "    .dataframe tbody tr th {\n",
       "        vertical-align: top;\n",
       "    }\n",
       "\n",
       "    .dataframe thead th {\n",
       "        text-align: right;\n",
       "    }\n",
       "</style>\n",
       "<table border=\"1\" class=\"dataframe\">\n",
       "  <thead>\n",
       "    <tr style=\"text-align: right;\">\n",
       "      <th></th>\n",
       "      <th>shipment_id</th>\n",
       "      <th>order_id</th>\n",
       "      <th>carrier</th>\n",
       "      <th>status</th>\n",
       "    </tr>\n",
       "  </thead>\n",
       "  <tbody>\n",
       "  </tbody>\n",
       "</table>\n",
       "</div>"
      ],
      "text/plain": [
       "Empty DataFrame\n",
       "Columns: [shipment_id, order_id, carrier, status]\n",
       "Index: []"
      ]
     },
     "execution_count": 57,
     "metadata": {},
     "output_type": "execute_result"
    }
   ],
   "source": [
    "#verificar se existem dados duplicados, neste caso nao existem dados duplicados\n",
    "ship[ship.duplicated()]"
   ]
  },
  {
   "cell_type": "code",
   "execution_count": 58,
   "id": "6e9ac8a5-718b-4fb1-9b93-3c98a9dd1db7",
   "metadata": {},
   "outputs": [
    {
     "data": {
      "text/plain": [
       "shipment_id    object\n",
       "order_id       object\n",
       "carrier        object\n",
       "status         object\n",
       "dtype: object"
      ]
     },
     "execution_count": 58,
     "metadata": {},
     "output_type": "execute_result"
    }
   ],
   "source": [
    "#verificar o tipo das variaveis\n",
    "ship.dtypes"
   ]
  },
  {
   "cell_type": "code",
   "execution_count": 59,
   "id": "ed1e89c4-2941-4302-86b0-5515f9fbc1f9",
   "metadata": {},
   "outputs": [
    {
     "data": {
      "text/html": [
       "<div>\n",
       "<style scoped>\n",
       "    .dataframe tbody tr th:only-of-type {\n",
       "        vertical-align: middle;\n",
       "    }\n",
       "\n",
       "    .dataframe tbody tr th {\n",
       "        vertical-align: top;\n",
       "    }\n",
       "\n",
       "    .dataframe thead th {\n",
       "        text-align: right;\n",
       "    }\n",
       "</style>\n",
       "<table border=\"1\" class=\"dataframe\">\n",
       "  <thead>\n",
       "    <tr style=\"text-align: right;\">\n",
       "      <th></th>\n",
       "      <th>shipment_id</th>\n",
       "      <th>order_id</th>\n",
       "      <th>carrier</th>\n",
       "      <th>status</th>\n",
       "    </tr>\n",
       "  </thead>\n",
       "  <tbody>\n",
       "    <tr>\n",
       "      <th>0</th>\n",
       "      <td>S0001</td>\n",
       "      <td>O0001</td>\n",
       "      <td>CarrierA</td>\n",
       "      <td>Delivered</td>\n",
       "    </tr>\n",
       "    <tr>\n",
       "      <th>1</th>\n",
       "      <td>S0002</td>\n",
       "      <td>O0027</td>\n",
       "      <td>CarrierB</td>\n",
       "      <td>Delivered</td>\n",
       "    </tr>\n",
       "    <tr>\n",
       "      <th>2</th>\n",
       "      <td>S0003</td>\n",
       "      <td>O0076</td>\n",
       "      <td>CarrierB</td>\n",
       "      <td>Delivered</td>\n",
       "    </tr>\n",
       "    <tr>\n",
       "      <th>3</th>\n",
       "      <td>S0004</td>\n",
       "      <td>O0078</td>\n",
       "      <td>CarrierB</td>\n",
       "      <td>Delivered</td>\n",
       "    </tr>\n",
       "    <tr>\n",
       "      <th>4</th>\n",
       "      <td>S0005</td>\n",
       "      <td>O0006</td>\n",
       "      <td>CarrierB</td>\n",
       "      <td>Delivered</td>\n",
       "    </tr>\n",
       "  </tbody>\n",
       "</table>\n",
       "</div>"
      ],
      "text/plain": [
       "  shipment_id order_id   carrier     status\n",
       "0       S0001    O0001  CarrierA  Delivered\n",
       "1       S0002    O0027  CarrierB  Delivered\n",
       "2       S0003    O0076  CarrierB  Delivered\n",
       "3       S0004    O0078  CarrierB  Delivered\n",
       "4       S0005    O0006  CarrierB  Delivered"
      ]
     },
     "execution_count": 59,
     "metadata": {},
     "output_type": "execute_result"
    }
   ],
   "source": [
    "ship.head()"
   ]
  },
  {
   "cell_type": "code",
   "execution_count": 65,
   "id": "0f5d263c-2611-47e1-93ae-c0450305b293",
   "metadata": {},
   "outputs": [
    {
     "data": {
      "text/plain": [
       "array(['Delivered', 'In Transit', 'Delayed'], dtype=object)"
      ]
     },
     "execution_count": 65,
     "metadata": {},
     "output_type": "execute_result"
    }
   ],
   "source": [
    "ship['status'].unique()"
   ]
  },
  {
   "cell_type": "code",
   "execution_count": 67,
   "id": "2f1cbfd4-f8f2-49a8-b68d-d9a8bd85666f",
   "metadata": {},
   "outputs": [
    {
     "data": {
      "text/plain": [
       "status\n",
       "Delivered     61\n",
       "In Transit    11\n",
       "Delayed        8\n",
       "Name: count, dtype: int64"
      ]
     },
     "execution_count": 67,
     "metadata": {},
     "output_type": "execute_result"
    }
   ],
   "source": [
    "ship['status'].value_counts()"
   ]
  },
  {
   "cell_type": "code",
   "execution_count": 68,
   "id": "4fc4937e-6fa4-4a97-91d7-78e6ceeb15c5",
   "metadata": {},
   "outputs": [
    {
     "data": {
      "text/plain": [
       "(80, 4)"
      ]
     },
     "execution_count": 68,
     "metadata": {},
     "output_type": "execute_result"
    }
   ],
   "source": [
    "ship.shape"
   ]
  },
  {
   "cell_type": "code",
   "execution_count": null,
   "id": "3545383e-e044-4bbe-aa63-0facc2c8fef2",
   "metadata": {},
   "outputs": [],
   "source": []
  },
  {
   "cell_type": "code",
   "execution_count": null,
   "id": "7a9d007c-580d-4220-ba20-82abf2083a87",
   "metadata": {},
   "outputs": [],
   "source": []
  },
  {
   "cell_type": "code",
   "execution_count": null,
   "id": "a6eeb5b3-7a7d-4250-885b-8b2f0f69e1f0",
   "metadata": {},
   "outputs": [],
   "source": []
  },
  {
   "cell_type": "code",
   "execution_count": null,
   "id": "87e8789f-2cb7-473f-80bd-3d3eaaa43fdf",
   "metadata": {},
   "outputs": [],
   "source": []
  }
 ],
 "metadata": {
  "kernelspec": {
   "display_name": "Python 3 (ipykernel)",
   "language": "python",
   "name": "python3"
  },
  "language_info": {
   "codemirror_mode": {
    "name": "ipython",
    "version": 3
   },
   "file_extension": ".py",
   "mimetype": "text/x-python",
   "name": "python",
   "nbconvert_exporter": "python",
   "pygments_lexer": "ipython3",
   "version": "3.12.7"
  }
 },
 "nbformat": 4,
 "nbformat_minor": 5
}
