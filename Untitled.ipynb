{
 "cells": [
  {
   "cell_type": "code",
   "execution_count": 26,
   "id": "5c143fab-abe4-4864-96b6-b75bc469a72f",
   "metadata": {},
   "outputs": [],
   "source": [
    "# Carregando as principais bibliotecas\n",
    "import numpy as np\n",
    "import pandas as pd\n",
    "import matplotlib.pyplot as plt\n",
    "import seaborn as sns\n",
    "import datetime as dt"
   ]
  },
  {
   "cell_type": "code",
   "execution_count": 27,
   "id": "d6f54a05-4c7f-4b8d-9b63-ac580b2f3dc6",
   "metadata": {},
   "outputs": [],
   "source": [
    "# Carregando os arquivos .csv e salvando em Pandas\n",
    "orders = pd.read_csv(\"Orders.csv\")\n",
    "inventory = pd.read_csv(\"Inventory.csv\")\n",
    "ship = pd.read_csv(\"Shipments.csv\")\n",
    "# Agora, vamos verificar inconsistências tabela por tabela"
   ]
  },
  {
   "cell_type": "code",
   "execution_count": 37,
   "id": "92f4b55b-aba7-4954-a962-ae77144c04fe",
   "metadata": {},
   "outputs": [
    {
     "data": {
      "text/plain": [
       "<bound method NDFrame.head of    order_id customer_id product_id  order_date order_status\n",
       "0     O0001        C007       P008  2025-02-26    Delivered\n",
       "1     O0002        C020       P014  2025-02-01    Delivered\n",
       "2     O0003        C029       P008  2025-02-23    Delivered\n",
       "3     O0004        C015       P016  2025-04-21    Delivered\n",
       "4     O0005        C011       P013  2025-04-21    Delivered\n",
       "..      ...         ...        ...         ...          ...\n",
       "95    O0096        C010       P007  2025-04-02    Delivered\n",
       "96    O0097        C004       P002  2025-03-06    Delivered\n",
       "97    O0098        C014       P003  2025-04-03      Pending\n",
       "98    O0099        C016       P017  2025-04-15     Canceled\n",
       "99    O0100        C015       P005  2025-04-16    Delivered\n",
       "\n",
       "[100 rows x 5 columns]>"
      ]
     },
     "execution_count": 37,
     "metadata": {},
     "output_type": "execute_result"
    }
   ],
   "source": [
    "# Vamos começar por \"orders.csv\"\n",
    "# Primeiramente, vamos explorar os dados para entender a tabela\n",
    "orders.head"
   ]
  },
  {
   "cell_type": "code",
   "execution_count": 28,
   "id": "054f44ed-06d7-4928-be50-d8833e44e044",
   "metadata": {},
   "outputs": [
    {
     "data": {
      "text/plain": [
       "order_id        0\n",
       "customer_id     0\n",
       "product_id      0\n",
       "order_date      0\n",
       "order_status    0\n",
       "dtype: int64"
      ]
     },
     "execution_count": 28,
     "metadata": {},
     "output_type": "execute_result"
    }
   ],
   "source": [
    "# Verificando consistência de \"orders.csv\"\n",
    "orders.isnull().sum() # Verifica se existem entradas nulas"
   ]
  },
  {
   "cell_type": "code",
   "execution_count": 29,
   "id": "a69809d3-129e-433f-a93e-b129291caa5e",
   "metadata": {},
   "outputs": [
    {
     "data": {
      "text/html": [
       "<div>\n",
       "<style scoped>\n",
       "    .dataframe tbody tr th:only-of-type {\n",
       "        vertical-align: middle;\n",
       "    }\n",
       "\n",
       "    .dataframe tbody tr th {\n",
       "        vertical-align: top;\n",
       "    }\n",
       "\n",
       "    .dataframe thead th {\n",
       "        text-align: right;\n",
       "    }\n",
       "</style>\n",
       "<table border=\"1\" class=\"dataframe\">\n",
       "  <thead>\n",
       "    <tr style=\"text-align: right;\">\n",
       "      <th></th>\n",
       "      <th>order_id</th>\n",
       "      <th>customer_id</th>\n",
       "      <th>product_id</th>\n",
       "      <th>order_date</th>\n",
       "      <th>order_status</th>\n",
       "    </tr>\n",
       "  </thead>\n",
       "  <tbody>\n",
       "  </tbody>\n",
       "</table>\n",
       "</div>"
      ],
      "text/plain": [
       "Empty DataFrame\n",
       "Columns: [order_id, customer_id, product_id, order_date, order_status]\n",
       "Index: []"
      ]
     },
     "execution_count": 29,
     "metadata": {},
     "output_type": "execute_result"
    }
   ],
   "source": [
    "orders[orders.duplicated()] # Verifica se existem ordens duplicadas"
   ]
  },
  {
   "cell_type": "code",
   "execution_count": null,
   "id": "86babc3a-b449-42af-b3e6-c9de4ce9a104",
   "metadata": {},
   "outputs": [],
   "source": [
    "# Não existem dados nulos ou entradas duplicadas nesta tabela.\n",
    "# Então, vamos verificar o tipo das variáveis e mudar o tipo da variável order_date para date"
   ]
  },
  {
   "cell_type": "code",
   "execution_count": 38,
   "id": "6e57643a-a170-486a-8015-17a6425e7a6d",
   "metadata": {},
   "outputs": [
    {
     "data": {
      "text/plain": [
       "order_id        object\n",
       "customer_id     object\n",
       "product_id      object\n",
       "order_date      object\n",
       "order_status    object\n",
       "dtype: object"
      ]
     },
     "execution_count": 38,
     "metadata": {},
     "output_type": "execute_result"
    }
   ],
   "source": [
    "orders.dtypes"
   ]
  },
  {
   "cell_type": "code",
   "execution_count": 40,
   "id": "1456bc8f-d458-4856-b40e-b6d97a848e83",
   "metadata": {},
   "outputs": [],
   "source": [
    "orders[\"order_date\"] = pd.to_datetime(orders['order_date'], errors='coerce', dayfirst=True)"
   ]
  },
  {
   "cell_type": "code",
   "execution_count": 43,
   "id": "fe2f5359-6132-42f8-ba7c-2861c92d0b2a",
   "metadata": {},
   "outputs": [
    {
     "data": {
      "text/plain": [
       "order_id                object\n",
       "customer_id             object\n",
       "product_id              object\n",
       "order_date      datetime64[ns]\n",
       "order_status            object\n",
       "dtype: object"
      ]
     },
     "execution_count": 43,
     "metadata": {},
     "output_type": "execute_result"
    }
   ],
   "source": [
    "orders.dtypes"
   ]
  },
  {
   "cell_type": "code",
   "execution_count": null,
   "id": "ccb0f3e5-8acf-4fa7-a102-4208c35c3564",
   "metadata": {},
   "outputs": [],
   "source": []
  }
 ],
 "metadata": {
  "kernelspec": {
   "display_name": "Python 3 (ipykernel)",
   "language": "python",
   "name": "python3"
  },
  "language_info": {
   "codemirror_mode": {
    "name": "ipython",
    "version": 3
   },
   "file_extension": ".py",
   "mimetype": "text/x-python",
   "name": "python",
   "nbconvert_exporter": "python",
   "pygments_lexer": "ipython3",
   "version": "3.12.7"
  }
 },
 "nbformat": 4,
 "nbformat_minor": 5
}
